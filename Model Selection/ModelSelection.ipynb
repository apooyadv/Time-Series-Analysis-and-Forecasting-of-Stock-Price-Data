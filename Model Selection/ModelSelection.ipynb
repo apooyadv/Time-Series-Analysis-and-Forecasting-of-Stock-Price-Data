{
 "cells": [
  {
   "cell_type": "code",
   "execution_count": 1,
   "id": "d9eec266-832f-4137-9f23-f36fd55ed9f3",
   "metadata": {},
   "outputs": [
    {
     "name": "stderr",
     "output_type": "stream",
     "text": [
      "[*********************100%%**********************]  1 of 1 completed\n"
     ]
    }
   ],
   "source": [
    "import yfinance as yf\n",
    "\n",
    "# Download data\n",
    "gs = yf.download(\"AAPL\", start=\"2013-10-01\", end=\"2023-09-30\")"
   ]
  },
  {
   "cell_type": "code",
   "execution_count": 2,
   "id": "a188d775-f64d-4c04-b721-e969269d2c02",
   "metadata": {},
   "outputs": [],
   "source": [
    "import pandas as pd\n",
    "# Preprocess data\n",
    "dataset_ex_df = gs.copy()\n",
    "dataset_ex_df = dataset_ex_df.reset_index()\n",
    "dataset_ex_df['Date'] = pd.to_datetime(dataset_ex_df['Date'])\n",
    "dataset_ex_df.set_index('Date', inplace=True)\n",
    "dataset_ex_df = dataset_ex_df['Close'].to_frame()"
   ]
  },
  {
   "cell_type": "markdown",
   "id": "16a8c35c-e0e7-4dbe-9b5b-76cb39d4b886",
   "metadata": {},
   "source": [
    "**ARIMA MODEL**"
   ]
  },
  {
   "cell_type": "code",
   "execution_count": 3,
   "id": "fc67967b-754c-4bec-9f5d-b8506cd5458c",
   "metadata": {},
   "outputs": [
    {
     "name": "stdout",
     "output_type": "stream",
     "text": [
      "Performing stepwise search to minimize aic\n",
      " ARIMA(2,1,2)(0,0,0)[0] intercept   : AIC=9802.998, Time=5.10 sec\n",
      " ARIMA(0,1,0)(0,0,0)[0] intercept   : AIC=9842.030, Time=0.06 sec\n",
      " ARIMA(1,1,0)(0,0,0)[0] intercept   : AIC=9840.349, Time=0.20 sec\n",
      " ARIMA(0,1,1)(0,0,0)[0] intercept   : AIC=9840.108, Time=0.34 sec\n",
      " ARIMA(0,1,0)(0,0,0)[0]             : AIC=9843.244, Time=0.06 sec\n",
      " ARIMA(1,1,2)(0,0,0)[0] intercept   : AIC=9841.104, Time=3.83 sec\n",
      " ARIMA(2,1,1)(0,0,0)[0] intercept   : AIC=9841.070, Time=1.83 sec\n",
      " ARIMA(3,1,2)(0,0,0)[0] intercept   : AIC=9835.777, Time=7.25 sec\n",
      " ARIMA(2,1,3)(0,0,0)[0] intercept   : AIC=9833.241, Time=11.31 sec\n",
      " ARIMA(1,1,1)(0,0,0)[0] intercept   : AIC=9839.532, Time=1.51 sec\n",
      " ARIMA(1,1,3)(0,0,0)[0] intercept   : AIC=9832.834, Time=3.87 sec\n",
      " ARIMA(3,1,1)(0,0,0)[0] intercept   : AIC=9842.609, Time=2.02 sec\n",
      " ARIMA(3,1,3)(0,0,0)[0] intercept   : AIC=9843.879, Time=13.86 sec\n",
      " ARIMA(2,1,2)(0,0,0)[0]             : AIC=9845.076, Time=1.46 sec\n",
      "\n",
      "Best model:  ARIMA(2,1,2)(0,0,0)[0] intercept\n",
      "Total fit time: 52.734 seconds\n",
      "                               SARIMAX Results                                \n",
      "==============================================================================\n",
      "Dep. Variable:                      y   No. Observations:                 2517\n",
      "Model:               SARIMAX(2, 1, 2)   Log Likelihood               -4895.499\n",
      "Date:                Sun, 30 Jun 2024   AIC                           9802.998\n",
      "Time:                        11:46:19   BIC                           9837.981\n",
      "Sample:                             0   HQIC                          9815.694\n",
      "                               - 2517                                         \n",
      "Covariance Type:                  opg                                         \n",
      "==============================================================================\n",
      "                 coef    std err          z      P>|z|      [0.025      0.975]\n",
      "------------------------------------------------------------------------------\n",
      "intercept      0.2200      0.129      1.706      0.088      -0.033       0.473\n",
      "ar.L1         -1.8571      0.007   -274.112      0.000      -1.870      -1.844\n",
      "ar.L2         -0.9752      0.007   -145.703      0.000      -0.988      -0.962\n",
      "ma.L1          1.8441      0.009    200.805      0.000       1.826       1.862\n",
      "ma.L2          0.9536      0.009    104.460      0.000       0.936       0.972\n",
      "sigma2         2.8629      0.038     75.857      0.000       2.789       2.937\n",
      "===================================================================================\n",
      "Ljung-Box (L1) (Q):                   0.18   Jarque-Bera (JB):              5769.23\n",
      "Prob(Q):                              0.67   Prob(JB):                         0.00\n",
      "Heteroskedasticity (H):              48.88   Skew:                            -0.04\n",
      "Prob(H) (two-sided):                  0.00   Kurtosis:                        10.42\n",
      "===================================================================================\n",
      "\n",
      "Warnings:\n",
      "[1] Covariance matrix calculated using the outer product of gradients (complex-step).\n"
     ]
    }
   ],
   "source": [
    "from pmdarima.arima import auto_arima\n",
    "\n",
    "# Auto ARIMA to select optimal ARIMA parameters\n",
    "model = auto_arima(dataset_ex_df['Close'], seasonal=False, trace=True)\n",
    "print(model.summary())"
   ]
  },
  {
   "cell_type": "code",
   "execution_count": 4,
   "id": "4a229675-e044-470c-8291-bc9d988c218d",
   "metadata": {},
   "outputs": [],
   "source": [
    "from statsmodels.tsa.arima.model import ARIMA\n",
    "import numpy as np\n",
    "\n",
    "# Define the ARIMA model\n",
    "def arima_forecast(history):\n",
    "    # Fit the model\n",
    "    model = ARIMA(history, order=(0,1,0))\n",
    "    model_fit = model.fit()\n",
    "    \n",
    "    # Make the prediction\n",
    "    output = model_fit.forecast()\n",
    "    yhat = output[0]\n",
    "    return yhat\n",
    "\n",
    "# Split data into train and test sets\n",
    "X = dataset_ex_df.values\n",
    "size = int(len(X) * 0.8)\n",
    "train, test = X[0:size], X[size:len(X)]\n",
    "\n",
    "# Walk-forward validation\n",
    "history = [x for x in train]\n",
    "predictions = list()\n",
    "for t in range(len(test)):\n",
    "    # Generate a prediction\n",
    "    yhat = arima_forecast(history)\n",
    "    predictions.append(yhat)\n",
    "    # Add the predicted value to the training set\n",
    "    obs = test[t]\n",
    "    history.append(obs)"
   ]
  },
  {
   "cell_type": "code",
   "execution_count": 14,
   "id": "9f2e429f-df8b-4cdb-9914-3a387c052573",
   "metadata": {},
   "outputs": [
    {
     "data": {
      "text/plain": [
       "(2517, 1)"
      ]
     },
     "execution_count": 14,
     "metadata": {},
     "output_type": "execute_result"
    }
   ],
   "source": [
    "dataset_ex_df.shape"
   ]
  },
  {
   "cell_type": "code",
   "execution_count": 13,
   "id": "8351242d-9b5d-4ac5-8fc4-6b137b8495fb",
   "metadata": {},
   "outputs": [
    {
     "data": {
      "text/plain": [
       "(2517, 1)"
      ]
     },
     "execution_count": 13,
     "metadata": {},
     "output_type": "execute_result"
    }
   ],
   "source": [
    "X.shape"
   ]
  },
  {
   "cell_type": "code",
   "execution_count": 22,
   "id": "5460e3f1-e19e-4150-912a-7b737630d3c0",
   "metadata": {},
   "outputs": [
    {
     "data": {
      "image/png": "[encoded data removed]",
      "text/plain": [
       "<Figure size 1200x600 with 1 Axes>"
      ]
     },
     "metadata": {},
     "output_type": "display_data"
    },
    {
     "name": "stdout",
     "output_type": "stream",
     "text": [
      "ARIMA Model - MSE: 8.50372283894542, RMSE: 2.916114339141286\n"
     ]
    }
   ],
   "source": [
    "import matplotlib.pyplot as plt\n",
    "\n",
    "plt.figure(figsize=(12, 6), dpi=100)\n",
    "plt.plot(dataset_ex_df.index, X, label='Real')\n",
    "plt.plot(dataset_ex_df.iloc[size:,:].index, predictions, color='red', label='Predicted',linestyle = 'dotted')\n",
    "plt.title('ARIMA Predictions vs Actual Values')\n",
    "plt.xlabel('Date')\n",
    "plt.ylabel('Stock Price')\n",
    "plt.legend()\n",
    "plt.show()\n",
    "\n",
    "from sklearn.metrics import mean_squared_error\n",
    "\n",
    "mse_arima = mean_squared_error(test, predictions)\n",
    "rmse_arima = np.sqrt(mse_arima)\n",
    "print(f'ARIMA Model - MSE: {mse_arima}, RMSE: {rmse_arima}')"
   ]
  },
  {
   "cell_type": "markdown",
   "id": "6ce64d08-eaf9-4229-bb3a-2a00f2e43197",
   "metadata": {},
   "source": [
    "**GARCH MODEL**"
   ]
  },
  {
   "cell_type": "code",
   "execution_count": null,
   "id": "736c6bba-2338-4263-b016-b69cb5e225e0",
   "metadata": {},
   "outputs": [],
   "source": [
    "from arch import arch_model\n",
    "\n",
    "# Fetching the stock data\n",
    "ticker = \"AAPL\"\n",
    "data = yf.download(ticker, start=\"2013-10-01\", end=\"2023-09-30\")\n",
    "\n",
    "# Preprocessing the data\n",
    "data['Date'] = data.index\n",
    "data.reset_index(drop=True, inplace=True)\n",
    "data = data[['Date', 'Close']]\n",
    "\n",
    "# Calculate daily returns\n",
    "data['Return'] = data['Close'].pct_change().dropna() * 100\n",
    "\n",
    "# Drop NaN values resulting from the percentage change calculation\n",
    "data = data.dropna()\n",
    "\n",
    "# Fit a GARCH(1,1) model\n",
    "returns = data['Return']\n",
    "model = arch_model(returns, vol='Garch', p=1, q=1)\n",
    "model_fit = model.fit(disp='off')\n",
    "\n",
    "# Forecasting\n",
    "forecast_horizon = 5\n",
    "forecast = model_fit.forecast(horizon=forecast_horizon)\n",
    "mean_forecast = forecast.mean['h.1'].iloc[-1]\n",
    "variance_forecast = forecast.variance['h.1'].iloc[-1]\n",
    "print(f\"Mean forecast: {mean_forecast}\")\n",
    "print(f\"Variance forecast: {variance_forecast}\")\n",
    "data['Mean_Forecast'] = mean_forecast\n",
    "\n",
    "# Plotting the results\n",
    "plt.figure(figsize=(10, 6))\n",
    "plt.plot(data['Date'][0:2000], data['Return'][0:2000], label='Training Data')\n",
    "plt.plot(data['Date'][2000:], data['Return'][2000:], label='Actual Returns')\n",
    "plt.plot(data['Date'][2000:],data['Mean_Forecast'][2000:], label='GARCH Forecast')\n",
    "plt.xlabel('Date')\n",
    "plt.ylabel('Daily Returns (%)')\n",
    "plt.title(f'{ticker} Daily Returns')\n",
    "plt.tight_layout()\n",
    "plt.legend()\n",
    "plt.show()\n",
    "\n",
    "# Evaluating the model\n",
    "mse_garch = np.square(np.mean(mean_forecast-returns.mean()))\n",
    "rmse_garch = np.sqrt(mse_garch)\n",
    "print(f'GARCH Model - MSE: {mse_garch}, RMSE: {rmse_garch}')"
   ]
  },
  {
   "cell_type": "markdown",
   "id": "f3e48e10-34a5-4b64-ba53-40850eee2dd8",
   "metadata": {},
   "source": [
    "**LSTM MODEL**"
   ]
  },
  {
   "cell_type": "code",
   "execution_count": null,
   "id": "b95e4d10-fc17-4fed-8816-a44ed4b09ed2",
   "metadata": {},
   "outputs": [],
   "source": [
    "from sklearn.preprocessing import MinMaxScaler\n",
    "from tensorflow.keras.models import Sequential\n",
    "from tensorflow.keras.layers import Dense, LSTM\n",
    "\n",
    "# Normalize the data\n",
    "scaler = MinMaxScaler(feature_range=(0, 1))\n",
    "scaled_data = scaler.fit_transform(gs['Close'].values.reshape(-1, 1))\n",
    "\n",
    "# Prepare the data for LSTM\n",
    "def create_dataset(dataset, time_step=1):\n",
    "    dataX, dataY = [], []\n",
    "    for i in range(len(dataset) - time_step - 1):\n",
    "        a = dataset[i:(i + time_step), 0]\n",
    "        dataX.append(a)\n",
    "        dataY.append(dataset[i + time_step, 0])\n",
    "    return np.array(dataX), np.array(dataY)\n",
    "\n",
    "time_step = 60\n",
    "X_train, y_train = create_dataset(scaled_data[:len(train)], time_step)\n",
    "X_test, y_test = create_dataset(scaled_data[len(train):], time_step)\n",
    "\n",
    "# Reshape input to be [samples, time steps, features] which is required for LSTM\n",
    "X_train = X_train.reshape(X_train.shape[0], X_train.shape[1], 1)\n",
    "X_test = X_test.reshape(X_test.shape[0], X_test.shape[1], 1)\n",
    "\n",
    "# Build the LSTM model\n",
    "lstm_model = Sequential()\n",
    "lstm_model.add(LSTM(100, return_sequences=True, input_shape=(time_step, 1)))\n",
    "lstm_model.add(LSTM(100, return_sequences=False))\n",
    "lstm_model.add(Dense(250))\n",
    "lstm_model.add(Dense(1))\n",
    "\n",
    "# Compile the model\n",
    "lstm_model.compile(optimizer='adam', loss='mean_squared_error')\n",
    "\n",
    "# Train the model\n",
    "lstm_model.fit(X_train, y_train, batch_size=1, epochs=1)\n",
    "\n",
    "# Predicting and inverse scaling\n",
    "train_predict = lstm_model.predict(X_train)\n",
    "test_predict = lstm_model.predict(X_test)\n",
    "\n",
    "train_predict = scaler.inverse_transform(train_predict)\n",
    "test_predict = scaler.inverse_transform(test_predict)\n",
    "\n",
    "# Plotting the results\n",
    "plt.figure(figsize=(12, 6))\n",
    "plt.plot(gs.index, gs['Close'], label='Actual Prices')\n",
    "train_predict_plot = np.empty_like(scaled_data)\n",
    "train_predict_plot[:, :] = np.nan\n",
    "train_predict_plot[time_step:len(train_predict) + time_step, :] = train_predict\n",
    "\n",
    "test_predict_plot = np.empty_like(scaled_data)\n",
    "test_predict_plot[:, :] = np.nan\n",
    "test_predict_plot[len(train_predict) + (time_step * 2) + 1:len(scaled_data) - 1, :] = test_predict\n",
    "\n",
    "plt.plot(gs.index, train_predict_plot, label='LSTM Training Prediction')\n",
    "plt.plot(gs.index, test_predict_plot, label='LSTM Testing Prediction')\n",
    "plt.title('LSTM Model Forecast')\n",
    "plt.xlabel('Date')\n",
    "plt.ylabel('Close Price (USD)')\n",
    "plt.legend()\n",
    "plt.show()\n",
    "\n",
    "# Evaluating the model\n",
    "mse_lstm = mean_squared_error(gs['Close'][len(train_predict) + (time_step * 2) + 2:], test_predict)\n",
    "rmse_lstm = np.sqrt(mse_lstm)\n",
    "print(f'LSTM Model - MSE: {mse_lstm}, RMSE: {rmse_lstm}')"
   ]
  },
  {
   "cell_type": "markdown",
   "id": "ecf018bf-4e3c-44bb-b665-a7b8fa424430",
   "metadata": {},
   "source": [
    "**FACEBOOK PROPHET**"
   ]
  },
  {
   "cell_type": "code",
   "execution_count": null,
   "id": "a77f042a-f9c7-4d63-b395-db3a113de8d1",
   "metadata": {},
   "outputs": [],
   "source": [
    "from prophet import Prophet\n",
    "\n",
    "# Prepare the data for Prophet\n",
    "prophet_data = gs['Close'].reset_index()\n",
    "prophet_data.columns = ['ds', 'y']\n",
    "\n",
    "# Split the data\n",
    "train_prophet = prophet_data[prophet_data['ds'] <= '2022-09-30']\n",
    "test_prophet = prophet_data[prophet_data['ds'] > '2022-09-30']\n",
    "\n",
    "# Fit the Prophet model\n",
    "prophet_model = Prophet(daily_seasonality=True)\n",
    "prophet_model.fit(train_prophet)\n",
    "\n",
    "# Make future dataframe for predictions\n",
    "future_dates = prophet_model.make_future_dataframe(periods=len(test_prophet))\n",
    "forecast = prophet_model.predict(future_dates)\n",
    "\n",
    "# Plotting the results\n",
    "fig, ax = plt.subplots(figsize=(12, 6))\n",
    "prophet_model.plot(forecast, ax=ax)\n",
    "ax.plot(test_prophet['ds'], test_prophet['y'], label='Actual Prices', color='red', linewidth=2)\n",
    "plt.title('Facebook Prophet Model Forecast')\n",
    "plt.xlabel('Date')\n",
    "plt.ylabel('Close Price (USD)')\n",
    "plt.legend()\n",
    "plt.show()\n",
    "\n",
    "# Evaluating the model\n",
    "mse_prophet = mean_squared_error(gs['Close'], forecast['trend_upper'])\n",
    "rmse_prophet = mse_prophet ** 0.5\n",
    "print(f'Prophet Model - MSE: {mse_prophet}, RMSE: {rmse_prophet}')"
   ]
  },
  {
   "cell_type": "markdown",
   "id": "af066dae-d08d-428c-b826-2e7e6d356534",
   "metadata": {},
   "source": [
    "**Comparison of Models**"
   ]
  },
  {
   "cell_type": "code",
   "execution_count": null,
   "id": "ddb6ce2a-23b9-431b-892b-19021f11e547",
   "metadata": {},
   "outputs": [],
   "source": [
    "# Comparing the MSE and RMSE of all models\n",
    "models = ['ARIMA', 'LSTM', 'Prophet']\n",
    "mse_values = [mse_arima, mse_lstm, mse_prophet]\n",
    "rmse_values = [rmse_arima, rmse_lstm, rmse_prophet]\n",
    "\n",
    "# Plotting the MSE and RMSE values\n",
    "plt.figure(figsize=(12, 6))\n",
    "plt.subplot(1, 2, 1)\n",
    "plt.bar(models, mse_values, color='skyblue')\n",
    "plt.title('MSE Comparison')\n",
    "plt.ylabel('MSE')\n",
    "\n",
    "plt.subplot(1, 2, 2)\n",
    "plt.bar(models, rmse_values, color='lightgreen')\n",
    "plt.title('RMSE Comparison')\n",
    "plt.ylabel('RMSE')\n",
    "\n",
    "plt.tight_layout()\n",
    "plt.show()"
   ]
  },
  {
   "cell_type": "code",
   "execution_count": null,
   "id": "bbf897e2-f76a-4247-9e90-3cba6c5c36bf",
   "metadata": {},
   "outputs": [],
   "source": []
  }
 ],
 "metadata": {
  "kernelspec": {
   "display_name": "Python 3 (ipykernel)",
   "language": "python",
   "name": "python3"
  },
  "language_info": {
   "codemirror_mode": {
    "name": "ipython",
    "version": 3
   },
   "file_extension": ".py",
   "mimetype": "text/x-python",
   "name": "python",
   "nbconvert_exporter": "python",
   "pygments_lexer": "ipython3",
   "version": "3.10.12"
  }
 },
 "nbformat": 4,
 "nbformat_minor": 5
}
